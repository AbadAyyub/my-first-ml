{
 "cells": [
  {
   "cell_type": "code",
   "execution_count": 4,
   "id": "7b3ff7d0-5256-4f28-8771-7fc91ab7d104",
   "metadata": {},
   "outputs": [
    {
     "data": {
      "text/plain": [
       "['music-recommender.joblib']"
      ]
     },
     "execution_count": 4,
     "metadata": {},
     "output_type": "execute_result"
    }
   ],
   "source": [
    "import pandas as pd\n",
    "from sklearn.tree import DecisionTreeClassifier\n",
    "import joblib\n",
    "\n",
    "music_data=pd.read_csv('music.csv')\n",
    "\n",
    "X= music_data.drop(columns=['genre'])\n",
    "Y= music_data['genre']\n",
    "\n",
    "model= DecisionTreeClassifier()\n",
    "model.fit(X,Y)\n",
    "\n",
    "joblib.dump(model,'music-recommender.joblib')\n"
   ]
  },
  {
   "cell_type": "code",
   "execution_count": null,
   "id": "6309a701-3e85-44ea-9277-e5046312cd07",
   "metadata": {},
   "outputs": [],
   "source": []
  }
 ],
 "metadata": {
  "kernelspec": {
   "display_name": "Python 3 (ipykernel)",
   "language": "python",
   "name": "python3"
  },
  "language_info": {
   "codemirror_mode": {
    "name": "ipython",
    "version": 3
   },
   "file_extension": ".py",
   "mimetype": "text/x-python",
   "name": "python",
   "nbconvert_exporter": "python",
   "pygments_lexer": "ipython3",
   "version": "3.12.4"
  }
 },
 "nbformat": 4,
 "nbformat_minor": 5
}
